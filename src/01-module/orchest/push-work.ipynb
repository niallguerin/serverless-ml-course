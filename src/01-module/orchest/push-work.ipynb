{
 "cells": [
  {
   "cell_type": "code",
   "execution_count": null,
   "id": "e0bc7741-4b28-4c33-a261-20b97dec0267",
   "metadata": {},
   "outputs": [],
   "source": [
    "from datetime import datetime\n",
    "from git import Repo\n",
    "import git\n",
    "import shutil\n",
    "\n",
    "# move the files to the /data folder in orchest\n",
    "source_folder = r\"/project-dir/src/01-module/assets/\"\n",
    "destination_folder = r\"../data/\"\n",
    "files_to_move = ['latest_iris.png', 'actual_iris.png', 'confusion_matrix.png','df_recent.png']\n",
    "\n",
    "for file in files_to_move:\n",
    "    # construct full file path\n",
    "    source = source_folder + file\n",
    "    destination = destination_folder + file\n",
    "     # move file\n",
    "    shutil.move(source, destination)\n",
    "\n",
    "# move to the branch for pages\n",
    "repo.git.checkout('gh-pages', force=True)"
   ]
  },
  {
   "cell_type": "code",
   "execution_count": null,
   "id": "773faf93-b612-4e53-90ad-931937f32386",
   "metadata": {},
   "outputs": [],
   "source": [
    "# Add our file, and set our commit\n",
    "repo.git.add('../data/latest_iris.png', '../data/actual_iris.png', '../data/confusion_matrix.png', '../data/df_recent.png')\n",
    "current = datetime.now()\n",
    "repo.index.commit(f'New prediction! time and date: {current}')"
   ]
  },
  {
   "cell_type": "code",
   "execution_count": null,
   "id": "e61fbfa5-d894-4cf3-811d-1428d335afcc",
   "metadata": {},
   "outputs": [],
   "source": [
    "# Push to the pages repository\n",
    "origin.push()"
   ]
  },
  {
   "cell_type": "code",
   "execution_count": null,
   "id": "f1e87803-f50e-4fbe-b15c-6974955de0d2",
   "metadata": {},
   "outputs": [],
   "source": [
    "# Remove last commit if needed\n",
    "# repo.head.reset('HEAD~1', index=True, working_tree=True)"
   ]
  },
  {
   "cell_type": "code",
   "execution_count": null,
   "id": "976e58c2-524a-4dba-8888-4ae0f619c030",
   "metadata": {},
   "outputs": [],
   "source": [
    "# Going back to the main branch\n",
    "repo.git.checkout('main', force=True)"
   ]
  }
 ],
 "metadata": {
  "kernelspec": {
   "display_name": "Python 3.10.6 64-bit",
   "language": "python",
   "name": "python3"
  },
  "language_info": {
   "codemirror_mode": {
    "name": "ipython",
    "version": 3
   },
   "file_extension": ".py",
   "mimetype": "text/x-python",
   "name": "python",
   "nbconvert_exporter": "python",
   "pygments_lexer": "ipython3",
   "version": "3.10.6"
  },
  "vscode": {
   "interpreter": {
    "hash": "b0fa6594d8f4cbf19f97940f81e996739fb7646882a419484c72d19e05852a7e"
   }
  }
 },
 "nbformat": 4,
 "nbformat_minor": 5
}
